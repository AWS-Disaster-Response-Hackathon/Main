{
 "cells": [
  {
   "cell_type": "code",
   "execution_count": 1,
   "id": "7becd0f5-ab56-4d3a-a8eb-a590240ec60b",
   "metadata": {},
   "outputs": [
    {
     "name": "stdout",
     "output_type": "stream",
     "text": [
      "Collecting pyneurgen\n",
      "  Downloading pyneurgen-0.3.1.tar.gz (581 kB)\n",
      "\u001b[K     |████████████████████████████████| 581 kB 3.2 MB/s eta 0:00:01\n",
      "\u001b[?25hBuilding wheels for collected packages: pyneurgen\n",
      "  Building wheel for pyneurgen (setup.py) ... \u001b[?25ldone\n",
      "\u001b[?25h  Created wheel for pyneurgen: filename=pyneurgen-0.3.1-py3-none-any.whl size=43741 sha256=533146fc2acaf5c6aeb92e75375081f8b21ad6b9401e5fc9c04d33b4f89cac41\n",
      "  Stored in directory: /home/studio-lab-user/.cache/pip/wheels/32/1c/53/7bcd67dd75aa100d6c1c0925bf455db1935612ae35c409459c\n",
      "Successfully built pyneurgen\n",
      "Installing collected packages: pyneurgen\n",
      "Successfully installed pyneurgen-0.3.1\n",
      "Note: you may need to restart the kernel to use updated packages.\n"
     ]
    }
   ],
   "source": [
    "pip install pyneurgen"
   ]
  },
  {
   "cell_type": "code",
   "execution_count": 3,
   "id": "95905f73-e483-462c-86d5-d9c5975ebb11",
   "metadata": {},
   "outputs": [
    {
     "name": "stdout",
     "output_type": "stream",
     "text": [
      "Collecting matplotlib\n",
      "  Downloading matplotlib-3.5.1-cp39-cp39-manylinux_2_5_x86_64.manylinux1_x86_64.whl (11.2 MB)\n",
      "\u001b[K     |████████████████████████████████| 11.2 MB 2.7 MB/s eta 0:00:01\n",
      "\u001b[?25hCollecting pillow>=6.2.0\n",
      "  Downloading Pillow-8.4.0-cp39-cp39-manylinux_2_17_x86_64.manylinux2014_x86_64.whl (3.1 MB)\n",
      "\u001b[K     |████████████████████████████████| 3.1 MB 66.3 MB/s eta 0:00:01\n",
      "\u001b[?25hRequirement already satisfied: python-dateutil>=2.7 in /home/studio-lab-user/.conda/envs/default/lib/python3.9/site-packages (from matplotlib) (2.8.2)\n",
      "Requirement already satisfied: packaging>=20.0 in /home/studio-lab-user/.conda/envs/default/lib/python3.9/site-packages (from matplotlib) (21.3)\n",
      "Collecting cycler>=0.10\n",
      "  Downloading cycler-0.11.0-py3-none-any.whl (6.4 kB)\n",
      "Collecting fonttools>=4.22.0\n",
      "  Downloading fonttools-4.28.5-py3-none-any.whl (890 kB)\n",
      "\u001b[K     |████████████████████████████████| 890 kB 62.1 MB/s eta 0:00:01\n",
      "\u001b[?25hRequirement already satisfied: pyparsing>=2.2.1 in /home/studio-lab-user/.conda/envs/default/lib/python3.9/site-packages (from matplotlib) (3.0.6)\n",
      "Collecting kiwisolver>=1.0.1\n",
      "  Downloading kiwisolver-1.3.2-cp39-cp39-manylinux_2_12_x86_64.manylinux2010_x86_64.whl (1.6 MB)\n",
      "\u001b[K     |████████████████████████████████| 1.6 MB 63.3 MB/s eta 0:00:01\n",
      "\u001b[?25hRequirement already satisfied: numpy>=1.17 in /home/studio-lab-user/.conda/envs/default/lib/python3.9/site-packages (from matplotlib) (1.21.4)\n",
      "Requirement already satisfied: six>=1.5 in /home/studio-lab-user/.conda/envs/default/lib/python3.9/site-packages (from python-dateutil>=2.7->matplotlib) (1.16.0)\n",
      "Installing collected packages: pillow, kiwisolver, fonttools, cycler, matplotlib\n",
      "Successfully installed cycler-0.11.0 fonttools-4.28.5 kiwisolver-1.3.2 matplotlib-3.5.1 pillow-8.4.0\n",
      "Note: you may need to restart the kernel to use updated packages.\n"
     ]
    }
   ],
   "source": [
    "pip install matplotlib"
   ]
  },
  {
   "cell_type": "code",
   "execution_count": 1,
   "id": "e04cd7db-c651-4b0a-b998-8389cd3d6af7",
   "metadata": {},
   "outputs": [
    {
     "ename": "SyntaxError",
     "evalue": "invalid syntax (neuralnet.py, line 613)",
     "output_type": "error",
     "traceback": [
      "Traceback \u001b[0;36m(most recent call last)\u001b[0m:\n",
      "  File \u001b[1;32m\"/home/studio-lab-user/.conda/envs/default/lib/python3.9/site-packages/IPython/core/interactiveshell.py\"\u001b[0m, line \u001b[1;32m3444\u001b[0m, in \u001b[1;35mrun_code\u001b[0m\n    exec(code_obj, self.user_global_ns, self.user_ns)\n",
      "\u001b[0;36m  File \u001b[0;32m\"/tmp/ipykernel_152/2044254105.py\"\u001b[0;36m, line \u001b[0;32m7\u001b[0;36m, in \u001b[0;35m<module>\u001b[0;36m\u001b[0m\n\u001b[0;31m    from pyneurgen.neuralnet import NeuralNet\u001b[0m\n",
      "\u001b[0;36m  File \u001b[0;32m\"/home/studio-lab-user/.conda/envs/default/lib/python3.9/site-packages/pyneurgen/neuralnet.py\"\u001b[0;36m, line \u001b[0;32m613\u001b[0m\n\u001b[0;31m    print \"sample: %s errors: %s\" % (\u001b[0m\n\u001b[0m          ^\u001b[0m\n\u001b[0;31mSyntaxError\u001b[0m\u001b[0;31m:\u001b[0m invalid syntax\n"
     ]
    }
   ],
   "source": [
    "import random\n",
    "import math\n",
    "\n",
    "import matplotlib\n",
    "from pylab import plot, legend, subplot, grid, xlabel, ylabel, show, title\n",
    "\n",
    "from pyneurgen.neuralnet import NeuralNet\n",
    "from pyneurgen.nodes import BiasNode, Connection"
   ]
  },
  {
   "cell_type": "code",
   "execution_count": null,
   "id": "8f789f84-c0bb-4837-8da9-b0b181339556",
   "metadata": {},
   "outputs": [],
   "source": []
  }
 ],
 "metadata": {
  "kernelspec": {
   "display_name": "default:Python",
   "language": "python",
   "name": "conda-env-default-py"
  },
  "language_info": {
   "codemirror_mode": {
    "name": "ipython",
    "version": 3
   },
   "file_extension": ".py",
   "mimetype": "text/x-python",
   "name": "python",
   "nbconvert_exporter": "python",
   "pygments_lexer": "ipython3",
   "version": "3.9.7"
  }
 },
 "nbformat": 4,
 "nbformat_minor": 5
}
